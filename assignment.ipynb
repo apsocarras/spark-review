{
 "cells": [
  {
   "cell_type": "code",
   "execution_count": 1,
   "metadata": {},
   "outputs": [
    {
     "name": "stdout",
     "output_type": "stream",
     "text": [
      "23/02/10 14:49:31 WARN Utils: Your hostname, alex-XPS-15-7590 resolves to a loopback address: 127.0.1.1; using 192.168.0.33 instead (on interface wlp59s0)\n",
      "23/02/10 14:49:31 WARN Utils: Set SPARK_LOCAL_IP if you need to bind to another address\n"
     ]
    },
    {
     "name": "stderr",
     "output_type": "stream",
     "text": [
      "Setting default log level to \"WARN\".\n",
      "To adjust logging level use sc.setLogLevel(newLevel). For SparkR, use setLogLevel(newLevel).\n"
     ]
    },
    {
     "name": "stdout",
     "output_type": "stream",
     "text": [
      "23/02/10 14:49:32 WARN NativeCodeLoader: Unable to load native-hadoop library for your platform... using builtin-java classes where applicable\n"
     ]
    }
   ],
   "source": [
    "from pyspark.sql import SparkSession\n",
    "import pyspark.sql.functions as sf\n",
    "import pyspark.sql.types as st\n",
    "\n",
    "spark = SparkSession.builder.master('local').getOrCreate()\n",
    "\n",
    "schema = st.StructType([\n",
    "    st.StructField(\"date\", st.DateType(), True),\n",
    "    st.StructField(\"open\", st.FloatType(), True),\n",
    "    st.StructField(\"high\", st.FloatType(), True),\n",
    "    st.StructField(\"low\", st.FloatType(), True),\n",
    "    st.StructField(\"close\", st.FloatType(), True),\n",
    "    st.StructField(\"volume\", st.FloatType(), True),\n",
    "    st.StructField(\"currency\", st.StringType(), True)\n",
    "])\n",
    "\n",
    "cdf = spark.read.csv(\"data/coffee.csv\", header=True, \n",
    "schema=schema)"
   ]
  },
  {
   "cell_type": "code",
   "execution_count": 2,
   "metadata": {},
   "outputs": [
    {
     "name": "stdout",
     "output_type": "stream",
     "text": [
      "root\n",
      " |-- date: date (nullable = true)\n",
      " |-- open: float (nullable = true)\n",
      " |-- high: float (nullable = true)\n",
      " |-- low: float (nullable = true)\n",
      " |-- close: float (nullable = true)\n",
      " |-- volume: float (nullable = true)\n",
      " |-- currency: string (nullable = true)\n",
      "\n"
     ]
    }
   ],
   "source": [
    "cdf.printSchema()"
   ]
  },
  {
   "cell_type": "code",
   "execution_count": 3,
   "metadata": {},
   "outputs": [],
   "source": [
    "# lower case columns \n",
    "cdf = cdf.toDF(*[c.lower() for c in cdf.columns])\n",
    "\n",
    "# Add a column to the DataFrame where the values are the difference between 'Open' and 'Close'\n",
    "# Add a column to the DataFrame where the values are the difference between 'High' and 'Low'\n",
    "# Add a column to the DataFrame where the values are 'True' if the volume for that day was 100 or above, and otherwise 'False'.\n",
    "\n",
    "cdf = cdf \\\n",
    "  .withColumn(\"oc_diff\", sf.round(cdf.open - cdf.close, 4)) \\\n",
    "  .withColumn(\"hl_diff\", sf.round(cdf.high - cdf.low, 4)) \\\n",
    "  .withColumn(\"over_100\", cdf.volume >= 100)\n",
    "\n",
    "# Add another column that contains the absolute values of the numbers in oc_diff\n",
    "# Compute a column called net_sales which is the average of opening, high, low, and closing cost times the volume\n",
    "\n",
    "abs_map = sf.udf(lambda x: round(abs(x), 4), st.FloatType())\n",
    "\n",
    "cdf = cdf \\\n",
    "  .withColumn(\"abs_oc_diff\", abs_map(cdf.oc_diff)) \\\n",
    "  .withColumn(\"net_sales\", sf.round((cdf.open + cdf.close + cdf.high + cdf.low)/4, 4).cast(st.FloatType()))\n"
   ]
  },
  {
   "cell_type": "code",
   "execution_count": 4,
   "metadata": {},
   "outputs": [
    {
     "name": "stdout",
     "output_type": "stream",
     "text": [
      "root\n",
      " |-- date: date (nullable = true)\n",
      " |-- open: float (nullable = true)\n",
      " |-- high: float (nullable = true)\n",
      " |-- low: float (nullable = true)\n",
      " |-- close: float (nullable = true)\n",
      " |-- volume: float (nullable = true)\n",
      " |-- currency: string (nullable = true)\n",
      " |-- oc_diff: float (nullable = true)\n",
      " |-- hl_diff: float (nullable = true)\n",
      " |-- over_100: boolean (nullable = true)\n",
      " |-- abs_oc_diff: float (nullable = true)\n",
      " |-- net_sales: float (nullable = true)\n",
      "\n"
     ]
    }
   ],
   "source": [
    "cdf.printSchema()"
   ]
  },
  {
   "cell_type": "code",
   "execution_count": 5,
   "metadata": {},
   "outputs": [
    {
     "name": "stderr",
     "output_type": "stream",
     "text": [
      "                                                                                \r"
     ]
    },
    {
     "name": "stdout",
     "output_type": "stream",
     "text": [
      "+--------+---------------+--------+\n",
      "|avg_open|avg_abs_oc_diff|max_high|\n",
      "+--------+---------------+--------+\n",
      "|126.0497|         1.7606|  306.25|\n",
      "+--------+---------------+--------+\n",
      "\n"
     ]
    },
    {
     "data": {
      "text/plain": [
       "1638"
      ]
     },
     "execution_count": 5,
     "metadata": {},
     "output_type": "execute_result"
    }
   ],
   "source": [
    "# Find the average of the values in the column that has the absolute values of the difference between 'Open' and 'Close'.\n",
    "# Find the average 'Open' value.\n",
    "# Get the highest 'High' value.\n",
    "\n",
    "cdf.createOrReplaceTempView(\"coffee\")\n",
    "result = spark.sql(\"\"\"\n",
    "select ROUND(AVG(open), 4) as avg_open,\n",
    "       ROUND(AVG(abs_oc_diff), 4) as avg_abs_oc_diff,\n",
    "       MAX(high) as max_high \n",
    "from coffee\n",
    "\"\"\")\n",
    "result.show()\n",
    "\n",
    "# Get the count of values where the 'Volume' was less than 100\n",
    "cdf.filter(cdf.over_100 == False).count()"
   ]
  },
  {
   "cell_type": "code",
   "execution_count": 6,
   "metadata": {},
   "outputs": [
    {
     "name": "stderr",
     "output_type": "stream",
     "text": [
      "                                                                                \r"
     ]
    }
   ],
   "source": [
    "# Write to parquet \n",
    "cdf.write.parquet(\"data/coffee.parquet\", mode=\"overwrite\")"
   ]
  },
  {
   "cell_type": "code",
   "execution_count": 7,
   "metadata": {},
   "outputs": [],
   "source": [
    "## Bonus -- Use Matplotlib to create a visualization (i.e. a chart) using the coffee data.\n",
    "import matplotlib.pyplot as plt \n",
    "\n",
    "schema = st.StructType([\n",
    "    st.StructField(\"date\", st.DateType(), True),\n",
    "    st.StructField(\"open\", st.FloatType(), True),\n",
    "    st.StructField(\"high\", st.FloatType(), True),\n",
    "    st.StructField(\"low\", st.FloatType(), True),\n",
    "    st.StructField(\"close\", st.FloatType(), True),\n",
    "    st.StructField(\"volume\", st.FloatType(), True),\n",
    "    st.StructField(\"currency\", st.StringType(), True),\n",
    "    st.StructField(\"oc_diff\", st.FloatType(), True),\n",
    "    st.StructField(\"hl_diff\", st.FloatType(), True),\n",
    "    st.StructField(\"over_100\", st.BooleanType(), True),\n",
    "    st.StructField(\"abs_oc_diff\", st.FloatType(), True),\n",
    "    st.StructField(\"net_sales\", st.FloatType(), True)\n",
    "])\n",
    "\n",
    "cdf = spark.read.schema(schema).parquet(\"data/coffee.parquet/\", header=True)"
   ]
  },
  {
   "cell_type": "code",
   "execution_count": 13,
   "metadata": {},
   "outputs": [
    {
     "data": {
      "text/plain": [
       "Text(0.5, 1.0, 'Daily Net Coffee Sales (USD)')"
      ]
     },
     "execution_count": 13,
     "metadata": {},
     "output_type": "execute_result"
    },
    {
     "data": {
      "image/png": "[encoded data removed]",
      "text/plain": [
       "<Figure size 640x480 with 1 Axes>"
      ]
     },
     "metadata": {},
     "output_type": "display_data"
    }
   ],
   "source": [
    "## Visualization: Line chart of daily price of coffee \n",
    "import pandas as pd\n",
    "import numpy as np\n",
    "import matplotlib.pyplot as plt\n",
    "\n",
    "\n",
    "pdf = cdf.toPandas()\n",
    "\n",
    "plt.plot('date','net_sales', data=pdf)\n",
    "plt.title(\"Daily Net Coffee Sales (USD)\")\n"
   ]
  },
  {
   "cell_type": "code",
   "execution_count": null,
   "metadata": {},
   "outputs": [],
   "source": [
    "## Upload parquet to bigquery "
   ]
  }
 ],
 "metadata": {
  "kernelspec": {
   "display_name": "venv",
   "language": "python",
   "name": "python3"
  },
  "language_info": {
   "codemirror_mode": {
    "name": "ipython",
    "version": 3
   },
   "file_extension": ".py",
   "mimetype": "text/x-python",
   "name": "python",
   "nbconvert_exporter": "python",
   "pygments_lexer": "ipython3",
   "version": "3.7.16"
  },
  "orig_nbformat": 4,
  "vscode": {
   "interpreter": {
    "hash": "24c9988c7f55424ad142d9b215cf76efd9b94977422ba213475928fe31c5040a"
   }
  }
 },
 "nbformat": 4,
 "nbformat_minor": 2
}
