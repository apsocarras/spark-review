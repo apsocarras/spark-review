{
 "cells": [
  {
   "cell_type": "code",
   "execution_count": 111,
   "metadata": {},
   "outputs": [],
   "source": [
    "from pyspark.sql import SparkSession\n",
    "import pyspark.sql.functions as sf\n",
    "import pandas as pd\n",
    "import numpy as np \n",
    "\n",
    "spark = SparkSession.builder.master('local').getOrCreate()\n",
    "\n",
    "cdf = spark.read.csv(\"data/coffee.csv\", header=True, \n",
    "schema=\"\"\"Date string, Open float, High float, Low float, Close float, Volume float, Currency string\"\"\")"
   ]
  },
  {
   "cell_type": "code",
   "execution_count": 112,
   "metadata": {},
   "outputs": [],
   "source": [
    "# lower case columns \n",
    "cdf = cdf.toDF(*[c.lower() for c in cdf.columns])\n",
    "\n",
    "# Add a column to the DataFrame where the values are the difference between 'Open' and 'Close'\n",
    "# Add a column to the DataFrame where the values are the difference between 'High' and 'Low'\n",
    "# Add a column to the DataFrame where the values are 'True' if the volume for that day was 100 or above, and otherwise 'False'.\n",
    "\n",
    "cdf = cdf \\\n",
    "  .withColumn(\"oc_diff\", sf.round(cdf.open - cdf.close, 4)) \\\n",
    "  .withColumn(\"hl_diff\", sf.round(cdf.high - cdf.low, 4)) \\\n",
    "  .withColumn(\"over_100\", cdf.volume >= 100)\n",
    "\n",
    "# Add another column that contains the absolute values of the numbers in oc_diff\n",
    "# Compute a column called net_sales which is the average of opening, high, low, and closing cost times the volume\n",
    "\n",
    "abs_map = sf.udf(lambda x: abs(x))\n",
    "cdf = cdf \\\n",
    "  .withColumn(\"abs_oc_diff\", abs_map(cdf.oc_diff)) \\\n",
    "  .withColumn(\"net_sales\", sf.round((cdf.open + cdf.close + cdf.high + cdf.low)/4, 4))\n",
    "\n"
   ]
  },
  {
   "cell_type": "code",
   "execution_count": 113,
   "metadata": {},
   "outputs": [
    {
     "name": "stdout",
     "output_type": "stream",
     "text": [
      "+--------+---------------+--------+\n",
      "|avg_open|avg_abs_oc_diff|max_high|\n",
      "+--------+---------------+--------+\n",
      "|126.0497|         1.7606|  306.25|\n",
      "+--------+---------------+--------+\n",
      "\n"
     ]
    },
    {
     "data": {
      "text/plain": [
       "1638"
      ]
     },
     "execution_count": 113,
     "metadata": {},
     "output_type": "execute_result"
    }
   ],
   "source": [
    "# Find the average of the values in the column that has the absolute values of the difference between 'Open' and 'Close'.\n",
    "# Find the average 'Open' value.\n",
    "# Get the highest 'High' value.\n",
    "\n",
    "cdf.createOrReplaceTempView(\"coffee\")\n",
    "result = spark.sql(\"\"\"\n",
    "select ROUND(AVG(open), 4) as avg_open,\n",
    "       ROUND(AVG(abs_oc_diff), 4) as avg_abs_oc_diff,\n",
    "       MAX(high) as max_high \n",
    "from coffee\n",
    "\"\"\")\n",
    "result.show()\n",
    "\n",
    "# Get the count of values where the 'Volume' was less than 100\n",
    "cdf.filter(cdf.over_100 == False).count()"
   ]
  },
  {
   "cell_type": "code",
   "execution_count": 116,
   "metadata": {},
   "outputs": [
    {
     "name": "stderr",
     "output_type": "stream",
     "text": [
      "                                                                                \r"
     ]
    }
   ],
   "source": [
    "# Write to parquet \n",
    "\n",
    "cdf.write.parquet(\"data/coffee.parquet\")"
   ]
  }
 ],
 "metadata": {
  "kernelspec": {
   "display_name": "venv",
   "language": "python",
   "name": "python3"
  },
  "language_info": {
   "codemirror_mode": {
    "name": "ipython",
    "version": 3
   },
   "file_extension": ".py",
   "mimetype": "text/x-python",
   "name": "python",
   "nbconvert_exporter": "python",
   "pygments_lexer": "ipython3",
   "version": "3.7.16"
  },
  "orig_nbformat": 4,
  "vscode": {
   "interpreter": {
    "hash": "24c9988c7f55424ad142d9b215cf76efd9b94977422ba213475928fe31c5040a"
   }
  }
 },
 "nbformat": 4,
 "nbformat_minor": 2
}
